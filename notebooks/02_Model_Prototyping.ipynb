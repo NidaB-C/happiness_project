{
 "cells": [
  {
   "cell_type": "code",
   "execution_count": 1,
   "id": "95ccf824",
   "metadata": {},
   "outputs": [],
   "source": [
    "from sklearn.model_selection import train_test_split\n",
    "from sklearn.preprocessing import StandardScaler\n",
    "from sklearn.linear_model import LogisticRegression\n",
    "from sklearn.metrics import accuracy_score, confusion_matrix, classification_report\n",
    "from sklearn import tree\n",
    "from sklearn.ensemble import RandomForestClassifier\n",
    "import seaborn as sns\n",
    "import matplotlib.pyplot as plt\n",
    "import pandas as pd\n",
    "\n",
    "# Needed for decision tree visualization\n",
    "import pydotplus\n",
    "from IPython.display import Image"
   ]
  },
  {
   "cell_type": "code",
   "execution_count": 2,
   "id": "c0532671",
   "metadata": {},
   "outputs": [],
   "source": [
    "#Import the cleaned dataset \n",
    "data_path = ('../data/processed/cleaned_happiness_data.csv')\n",
    "data_cleaned= pd.read_csv(data_path)"
   ]
  },
  {
   "cell_type": "code",
   "execution_count": 3,
   "id": "ab4ec48a",
   "metadata": {},
   "outputs": [
    {
     "data": {
      "text/html": [
       "<div>\n",
       "<style scoped>\n",
       "    .dataframe tbody tr th:only-of-type {\n",
       "        vertical-align: middle;\n",
       "    }\n",
       "\n",
       "    .dataframe tbody tr th {\n",
       "        vertical-align: top;\n",
       "    }\n",
       "\n",
       "    .dataframe thead th {\n",
       "        text-align: right;\n",
       "    }\n",
       "</style>\n",
       "<table border=\"1\" class=\"dataframe\">\n",
       "  <thead>\n",
       "    <tr style=\"text-align: right;\">\n",
       "      <th></th>\n",
       "      <th>Score</th>\n",
       "      <th>GDPperCapita</th>\n",
       "      <th>Family</th>\n",
       "      <th>LifeExpectancy</th>\n",
       "      <th>Freedom</th>\n",
       "      <th>NoCorruption</th>\n",
       "      <th>Generosity</th>\n",
       "      <th>DystopiaResidual</th>\n",
       "      <th>HappinessIndicator</th>\n",
       "    </tr>\n",
       "  </thead>\n",
       "  <tbody>\n",
       "    <tr>\n",
       "      <th>0</th>\n",
       "      <td>7.587</td>\n",
       "      <td>1.397</td>\n",
       "      <td>1.350</td>\n",
       "      <td>0.941</td>\n",
       "      <td>0.666</td>\n",
       "      <td>0.420</td>\n",
       "      <td>0.297</td>\n",
       "      <td>2.517</td>\n",
       "      <td>1</td>\n",
       "    </tr>\n",
       "    <tr>\n",
       "      <th>1</th>\n",
       "      <td>7.561</td>\n",
       "      <td>1.302</td>\n",
       "      <td>1.402</td>\n",
       "      <td>0.948</td>\n",
       "      <td>0.629</td>\n",
       "      <td>0.141</td>\n",
       "      <td>0.436</td>\n",
       "      <td>2.702</td>\n",
       "      <td>1</td>\n",
       "    </tr>\n",
       "    <tr>\n",
       "      <th>2</th>\n",
       "      <td>7.527</td>\n",
       "      <td>1.325</td>\n",
       "      <td>1.361</td>\n",
       "      <td>0.875</td>\n",
       "      <td>0.649</td>\n",
       "      <td>0.484</td>\n",
       "      <td>0.341</td>\n",
       "      <td>2.492</td>\n",
       "      <td>1</td>\n",
       "    </tr>\n",
       "    <tr>\n",
       "      <th>3</th>\n",
       "      <td>7.522</td>\n",
       "      <td>1.459</td>\n",
       "      <td>1.331</td>\n",
       "      <td>0.885</td>\n",
       "      <td>0.670</td>\n",
       "      <td>0.365</td>\n",
       "      <td>0.347</td>\n",
       "      <td>2.465</td>\n",
       "      <td>1</td>\n",
       "    </tr>\n",
       "    <tr>\n",
       "      <th>4</th>\n",
       "      <td>7.427</td>\n",
       "      <td>1.326</td>\n",
       "      <td>1.323</td>\n",
       "      <td>0.906</td>\n",
       "      <td>0.633</td>\n",
       "      <td>0.330</td>\n",
       "      <td>0.458</td>\n",
       "      <td>2.452</td>\n",
       "      <td>1</td>\n",
       "    </tr>\n",
       "    <tr>\n",
       "      <th>...</th>\n",
       "      <td>...</td>\n",
       "      <td>...</td>\n",
       "      <td>...</td>\n",
       "      <td>...</td>\n",
       "      <td>...</td>\n",
       "      <td>...</td>\n",
       "      <td>...</td>\n",
       "      <td>...</td>\n",
       "      <td>...</td>\n",
       "    </tr>\n",
       "    <tr>\n",
       "      <th>1362</th>\n",
       "      <td>3.207</td>\n",
       "      <td>0.531</td>\n",
       "      <td>0.652</td>\n",
       "      <td>0.105</td>\n",
       "      <td>0.664</td>\n",
       "      <td>0.834</td>\n",
       "      <td>0.183</td>\n",
       "      <td>1.162</td>\n",
       "      <td>0</td>\n",
       "    </tr>\n",
       "    <tr>\n",
       "      <th>1363</th>\n",
       "      <td>3.204</td>\n",
       "      <td>0.758</td>\n",
       "      <td>0.690</td>\n",
       "      <td>0.069</td>\n",
       "      <td>0.654</td>\n",
       "      <td>0.766</td>\n",
       "      <td>0.112</td>\n",
       "      <td>0.905</td>\n",
       "      <td>0</td>\n",
       "    </tr>\n",
       "    <tr>\n",
       "      <th>1364</th>\n",
       "      <td>3.138</td>\n",
       "      <td>0.670</td>\n",
       "      <td>0.555</td>\n",
       "      <td>0.092</td>\n",
       "      <td>0.660</td>\n",
       "      <td>0.858</td>\n",
       "      <td>0.193</td>\n",
       "      <td>1.221</td>\n",
       "      <td>0</td>\n",
       "    </tr>\n",
       "    <tr>\n",
       "      <th>1365</th>\n",
       "      <td>2.392</td>\n",
       "      <td>1.417</td>\n",
       "      <td>0.530</td>\n",
       "      <td>0.398</td>\n",
       "      <td>0.474</td>\n",
       "      <td>0.891</td>\n",
       "      <td>0.061</td>\n",
       "      <td>-0.110</td>\n",
       "      <td>0</td>\n",
       "    </tr>\n",
       "    <tr>\n",
       "      <th>1366</th>\n",
       "      <td>1.859</td>\n",
       "      <td>0.645</td>\n",
       "      <td>0.341</td>\n",
       "      <td>0.087</td>\n",
       "      <td>0.382</td>\n",
       "      <td>0.847</td>\n",
       "      <td>0.093</td>\n",
       "      <td>0.976</td>\n",
       "      <td>0</td>\n",
       "    </tr>\n",
       "  </tbody>\n",
       "</table>\n",
       "<p>1367 rows × 9 columns</p>\n",
       "</div>"
      ],
      "text/plain": [
       "      Score  GDPperCapita  Family  LifeExpectancy  Freedom  NoCorruption  \\\n",
       "0     7.587         1.397   1.350           0.941    0.666         0.420   \n",
       "1     7.561         1.302   1.402           0.948    0.629         0.141   \n",
       "2     7.527         1.325   1.361           0.875    0.649         0.484   \n",
       "3     7.522         1.459   1.331           0.885    0.670         0.365   \n",
       "4     7.427         1.326   1.323           0.906    0.633         0.330   \n",
       "...     ...           ...     ...             ...      ...           ...   \n",
       "1362  3.207         0.531   0.652           0.105    0.664         0.834   \n",
       "1363  3.204         0.758   0.690           0.069    0.654         0.766   \n",
       "1364  3.138         0.670   0.555           0.092    0.660         0.858   \n",
       "1365  2.392         1.417   0.530           0.398    0.474         0.891   \n",
       "1366  1.859         0.645   0.341           0.087    0.382         0.847   \n",
       "\n",
       "      Generosity  DystopiaResidual  HappinessIndicator  \n",
       "0          0.297             2.517                   1  \n",
       "1          0.436             2.702                   1  \n",
       "2          0.341             2.492                   1  \n",
       "3          0.347             2.465                   1  \n",
       "4          0.458             2.452                   1  \n",
       "...          ...               ...                 ...  \n",
       "1362       0.183             1.162                   0  \n",
       "1363       0.112             0.905                   0  \n",
       "1364       0.193             1.221                   0  \n",
       "1365       0.061            -0.110                   0  \n",
       "1366       0.093             0.976                   0  \n",
       "\n",
       "[1367 rows x 9 columns]"
      ]
     },
     "execution_count": 3,
     "metadata": {},
     "output_type": "execute_result"
    }
   ],
   "source": [
    "data_cleaned"
   ]
  },
  {
   "cell_type": "code",
   "execution_count": 4,
   "id": "31ccdd50",
   "metadata": {},
   "outputs": [],
   "source": [
    "# Define features and target variables\n",
    "features = data_cleaned.drop(['HappinessIndicator'], axis=1)\n",
    "target = data_cleaned['HappinessIndicator']"
   ]
  },
  {
   "cell_type": "code",
   "execution_count": 5,
   "id": "ea5946c9",
   "metadata": {},
   "outputs": [],
   "source": [
    "# Scale the features\n",
    "scaler = StandardScaler()\n",
    "features_scaled = scaler.fit_transform(features)"
   ]
  },
  {
   "cell_type": "code",
   "execution_count": 6,
   "id": "6a0a542a",
   "metadata": {},
   "outputs": [],
   "source": [
    "# Split the data into training and testing sets\n",
    "X_train, X_test, y_train, y_test = train_test_split(features_scaled, target, test_size=0.2, random_state=42)"
   ]
  },
  {
   "cell_type": "code",
   "execution_count": 7,
   "id": "5aaf9241",
   "metadata": {},
   "outputs": [
    {
     "data": {
      "text/html": [
       "<style>#sk-container-id-1 {color: black;background-color: white;}#sk-container-id-1 pre{padding: 0;}#sk-container-id-1 div.sk-toggleable {background-color: white;}#sk-container-id-1 label.sk-toggleable__label {cursor: pointer;display: block;width: 100%;margin-bottom: 0;padding: 0.3em;box-sizing: border-box;text-align: center;}#sk-container-id-1 label.sk-toggleable__label-arrow:before {content: \"▸\";float: left;margin-right: 0.25em;color: #696969;}#sk-container-id-1 label.sk-toggleable__label-arrow:hover:before {color: black;}#sk-container-id-1 div.sk-estimator:hover label.sk-toggleable__label-arrow:before {color: black;}#sk-container-id-1 div.sk-toggleable__content {max-height: 0;max-width: 0;overflow: hidden;text-align: left;background-color: #f0f8ff;}#sk-container-id-1 div.sk-toggleable__content pre {margin: 0.2em;color: black;border-radius: 0.25em;background-color: #f0f8ff;}#sk-container-id-1 input.sk-toggleable__control:checked~div.sk-toggleable__content {max-height: 200px;max-width: 100%;overflow: auto;}#sk-container-id-1 input.sk-toggleable__control:checked~label.sk-toggleable__label-arrow:before {content: \"▾\";}#sk-container-id-1 div.sk-estimator input.sk-toggleable__control:checked~label.sk-toggleable__label {background-color: #d4ebff;}#sk-container-id-1 div.sk-label input.sk-toggleable__control:checked~label.sk-toggleable__label {background-color: #d4ebff;}#sk-container-id-1 input.sk-hidden--visually {border: 0;clip: rect(1px 1px 1px 1px);clip: rect(1px, 1px, 1px, 1px);height: 1px;margin: -1px;overflow: hidden;padding: 0;position: absolute;width: 1px;}#sk-container-id-1 div.sk-estimator {font-family: monospace;background-color: #f0f8ff;border: 1px dotted black;border-radius: 0.25em;box-sizing: border-box;margin-bottom: 0.5em;}#sk-container-id-1 div.sk-estimator:hover {background-color: #d4ebff;}#sk-container-id-1 div.sk-parallel-item::after {content: \"\";width: 100%;border-bottom: 1px solid gray;flex-grow: 1;}#sk-container-id-1 div.sk-label:hover label.sk-toggleable__label {background-color: #d4ebff;}#sk-container-id-1 div.sk-serial::before {content: \"\";position: absolute;border-left: 1px solid gray;box-sizing: border-box;top: 0;bottom: 0;left: 50%;z-index: 0;}#sk-container-id-1 div.sk-serial {display: flex;flex-direction: column;align-items: center;background-color: white;padding-right: 0.2em;padding-left: 0.2em;position: relative;}#sk-container-id-1 div.sk-item {position: relative;z-index: 1;}#sk-container-id-1 div.sk-parallel {display: flex;align-items: stretch;justify-content: center;background-color: white;position: relative;}#sk-container-id-1 div.sk-item::before, #sk-container-id-1 div.sk-parallel-item::before {content: \"\";position: absolute;border-left: 1px solid gray;box-sizing: border-box;top: 0;bottom: 0;left: 50%;z-index: -1;}#sk-container-id-1 div.sk-parallel-item {display: flex;flex-direction: column;z-index: 1;position: relative;background-color: white;}#sk-container-id-1 div.sk-parallel-item:first-child::after {align-self: flex-end;width: 50%;}#sk-container-id-1 div.sk-parallel-item:last-child::after {align-self: flex-start;width: 50%;}#sk-container-id-1 div.sk-parallel-item:only-child::after {width: 0;}#sk-container-id-1 div.sk-dashed-wrapped {border: 1px dashed gray;margin: 0 0.4em 0.5em 0.4em;box-sizing: border-box;padding-bottom: 0.4em;background-color: white;}#sk-container-id-1 div.sk-label label {font-family: monospace;font-weight: bold;display: inline-block;line-height: 1.2em;}#sk-container-id-1 div.sk-label-container {text-align: center;}#sk-container-id-1 div.sk-container {/* jupyter's `normalize.less` sets `[hidden] { display: none; }` but bootstrap.min.css set `[hidden] { display: none !important; }` so we also need the `!important` here to be able to override the default hidden behavior on the sphinx rendered scikit-learn.org. See: https://github.com/scikit-learn/scikit-learn/issues/21755 */display: inline-block !important;position: relative;}#sk-container-id-1 div.sk-text-repr-fallback {display: none;}</style><div id=\"sk-container-id-1\" class=\"sk-top-container\"><div class=\"sk-text-repr-fallback\"><pre>LogisticRegression()</pre><b>In a Jupyter environment, please rerun this cell to show the HTML representation or trust the notebook. <br />On GitHub, the HTML representation is unable to render, please try loading this page with nbviewer.org.</b></div><div class=\"sk-container\" hidden><div class=\"sk-item\"><div class=\"sk-estimator sk-toggleable\"><input class=\"sk-toggleable__control sk-hidden--visually\" id=\"sk-estimator-id-1\" type=\"checkbox\" checked><label for=\"sk-estimator-id-1\" class=\"sk-toggleable__label sk-toggleable__label-arrow\">LogisticRegression</label><div class=\"sk-toggleable__content\"><pre>LogisticRegression()</pre></div></div></div></div></div>"
      ],
      "text/plain": [
       "LogisticRegression()"
      ]
     },
     "execution_count": 7,
     "metadata": {},
     "output_type": "execute_result"
    }
   ],
   "source": [
    "# Fit the logistic regression model\n",
    "model = LogisticRegression()\n",
    "model.fit(X_train, y_train)"
   ]
  },
  {
   "cell_type": "code",
   "execution_count": 8,
   "id": "cf215519",
   "metadata": {},
   "outputs": [],
   "source": [
    "# Make predictions\n",
    "y_pred = model.predict(X_test)"
   ]
  },
  {
   "cell_type": "code",
   "execution_count": 9,
   "id": "a02f995d",
   "metadata": {},
   "outputs": [],
   "source": [
    "#Generate the confusion matrix\n",
    "conf_matrix = confusion_matrix(y_test, y_pred)\n",
    "conf_matrix_df = pd.DataFrame(\n",
    "    conf_matrix, index=[\"Actual 0\", \"Actual 1\"], columns=[\"Predicted 0\", \"Predicted 1\"]\n",
    ")\n",
    "\n",
    "# Calculate the accuracy\n",
    "accuracy = accuracy_score(y_test, y_pred)"
   ]
  },
  {
   "cell_type": "code",
   "execution_count": 10,
   "id": "3d900c81",
   "metadata": {},
   "outputs": [
    {
     "name": "stdout",
     "output_type": "stream",
     "text": [
      "Confusion Matrix\n"
     ]
    },
    {
     "data": {
      "text/html": [
       "<div>\n",
       "<style scoped>\n",
       "    .dataframe tbody tr th:only-of-type {\n",
       "        vertical-align: middle;\n",
       "    }\n",
       "\n",
       "    .dataframe tbody tr th {\n",
       "        vertical-align: top;\n",
       "    }\n",
       "\n",
       "    .dataframe thead th {\n",
       "        text-align: right;\n",
       "    }\n",
       "</style>\n",
       "<table border=\"1\" class=\"dataframe\">\n",
       "  <thead>\n",
       "    <tr style=\"text-align: right;\">\n",
       "      <th></th>\n",
       "      <th>Predicted 0</th>\n",
       "      <th>Predicted 1</th>\n",
       "    </tr>\n",
       "  </thead>\n",
       "  <tbody>\n",
       "    <tr>\n",
       "      <th>Actual 0</th>\n",
       "      <td>131</td>\n",
       "      <td>0</td>\n",
       "    </tr>\n",
       "    <tr>\n",
       "      <th>Actual 1</th>\n",
       "      <td>3</td>\n",
       "      <td>140</td>\n",
       "    </tr>\n",
       "  </tbody>\n",
       "</table>\n",
       "</div>"
      ],
      "text/plain": [
       "          Predicted 0  Predicted 1\n",
       "Actual 0          131            0\n",
       "Actual 1            3          140"
      ]
     },
     "metadata": {},
     "output_type": "display_data"
    },
    {
     "name": "stdout",
     "output_type": "stream",
     "text": [
      "Accuracy Score : 0.9890510948905109\n",
      "Classification Report\n",
      "              precision    recall  f1-score   support\n",
      "\n",
      "           0       0.98      1.00      0.99       131\n",
      "           1       1.00      0.98      0.99       143\n",
      "\n",
      "    accuracy                           0.99       274\n",
      "   macro avg       0.99      0.99      0.99       274\n",
      "weighted avg       0.99      0.99      0.99       274\n",
      "\n"
     ]
    }
   ],
   "source": [
    "#Displaying results\n",
    "print(\"Confusion Matrix\")\n",
    "display(conf_matrix_df)\n",
    "print(f\"Accuracy Score : {accuracy}\")\n",
    "print(\"Classification Report\")\n",
    "print(classification_report(y_test, y_pred))"
   ]
  },
  {
   "cell_type": "code",
   "execution_count": 11,
   "id": "7f6c5972",
   "metadata": {},
   "outputs": [
    {
     "data": {
      "image/png": "[encoded data removed]",
      "text/plain": [
       "<Figure size 640x480 with 2 Axes>"
      ]
     },
     "metadata": {},
     "output_type": "display_data"
    }
   ],
   "source": [
    "# Display the confusion matrix\n",
    "sns.heatmap(conf_matrix, annot=True, fmt='d', cmap='Blues')\n",
    "plt.xlabel('Predicted')\n",
    "plt.ylabel('True')\n",
    "plt.title('Confusion Matrix')\n",
    "plt.show()"
   ]
  },
  {
   "cell_type": "markdown",
   "id": "23afb732",
   "metadata": {},
   "source": [
    "## Model Performance Summary\n",
    "\n",
    "Upon fitting the logistic regression model to the dataset, we observed an exceedingly high accuracy score of approximately 98.9%. The classification report yielded high precision, recall, and F1-scores across both classes, indicating the model's proficient performance in classifying individuals as \"happy\" or \"not happy.\" The following points detail the model's evaluation metrics:\n",
    "\n",
    "- **Precision**: Exceptionally high for both classes, suggesting a minimal rate of false positives.\n",
    "- **Recall**: Perfect for the \"not happy\" class, indicating no false negatives, and nearly perfect for the \"happy\" class.\n",
    "- **F1-Score**: Close to 1 for both classes, denoting an excellent balance between precision and recall.\n",
    "- **Support**: Reflects the balanced distribution of classes within the test dataset.\n",
    "\n",
    "The confusion matrix provided additional insights:\n",
    "\n",
    "- Correctly predicted \"not happy\" instances: 131\n",
    "- Correctly predicted \"happy\" instances: 140\n",
    "- False negatives: 3\n",
    "- False positives: 0\n",
    "\n",
    "### Interpretation and Recommendations\n",
    "\n",
    "The high accuracy and F1-scores suggest the logistic regression model is highly effective. However, such high performance could potentially be a sign of overfitting. It is crucial to validate the model's reliability through further testing and evaluation. Recommendations to ensure robustness and validity of the model include:\n",
    "\n",
    "1. **Cross-Validation**: To confirm consistency across various data subsets.\n",
    "2. **Feature Importance Analysis**: To understand the drivers of the model's decisions.\n",
    "3. **Testing More Complex Models**: Such as Random Forest or Gradient Boosting for comparative analysis.\n",
    "4. **Regularization Techniques**: To prevent overfitting and enhance model generalization.\n",
    "5. **Data Augmentation**: If data availability is limited, augmenting the dataset could improve model generalization.\n",
    "6. **Anomaly Detection**: To identify and rectify data points that disproportionately influence the model.\n",
    "7. **Domain Expert Consultation**: To align the model's predictions with expert knowledge.\n",
    "8. **External Validation**: To assess performance on an unseen dataset and ensure generalizability.\n",
    "\n",
    "These steps aim not only to potentially enhance model performance but to also affirm the reliability and applicability of the model to real-world scenarios.\n"
   ]
  },
  {
   "cell_type": "markdown",
   "id": "0937b68f",
   "metadata": {},
   "source": [
    "### Random Forest Model"
   ]
  },
  {
   "cell_type": "code",
   "execution_count": 12,
   "id": "3c75a4de",
   "metadata": {},
   "outputs": [],
   "source": [
    "# Create the random forest classifier instance\n",
    "rf_model = RandomForestClassifier()"
   ]
  },
  {
   "cell_type": "code",
   "execution_count": 13,
   "id": "879301e7",
   "metadata": {},
   "outputs": [],
   "source": [
    "# Fitting the model\n",
    "rf_model = rf_model.fit(X_train, y_train)"
   ]
  },
  {
   "cell_type": "code",
   "execution_count": 14,
   "id": "87b84f29",
   "metadata": {},
   "outputs": [],
   "source": [
    "# Making predictions using the testing data\n",
    "rf_predictions = rf_model.predict(X_test)"
   ]
  },
  {
   "cell_type": "code",
   "execution_count": 15,
   "id": "593552e9",
   "metadata": {},
   "outputs": [],
   "source": [
    "# Calculating the confusion matrix\n",
    "rf_cm = confusion_matrix(y_test, rf_predictions)\n",
    "rf_cm_df = pd.DataFrame(\n",
    "    rf_cm, index=[\"Actual 0\", \"Actual 1\"], columns=[\"Predicted 0\", \"Predicted 1\"]\n",
    ")\n",
    "\n",
    "# Calculating the accuracy score\n",
    "acc_score = accuracy_score(y_test, rf_predictions)"
   ]
  },
  {
   "cell_type": "code",
   "execution_count": 16,
   "id": "f8b9306e",
   "metadata": {},
   "outputs": [
    {
     "name": "stdout",
     "output_type": "stream",
     "text": [
      "Confusion Matrix\n"
     ]
    },
    {
     "data": {
      "text/html": [
       "<div>\n",
       "<style scoped>\n",
       "    .dataframe tbody tr th:only-of-type {\n",
       "        vertical-align: middle;\n",
       "    }\n",
       "\n",
       "    .dataframe tbody tr th {\n",
       "        vertical-align: top;\n",
       "    }\n",
       "\n",
       "    .dataframe thead th {\n",
       "        text-align: right;\n",
       "    }\n",
       "</style>\n",
       "<table border=\"1\" class=\"dataframe\">\n",
       "  <thead>\n",
       "    <tr style=\"text-align: right;\">\n",
       "      <th></th>\n",
       "      <th>Predicted 0</th>\n",
       "      <th>Predicted 1</th>\n",
       "    </tr>\n",
       "  </thead>\n",
       "  <tbody>\n",
       "    <tr>\n",
       "      <th>Actual 0</th>\n",
       "      <td>131</td>\n",
       "      <td>0</td>\n",
       "    </tr>\n",
       "    <tr>\n",
       "      <th>Actual 1</th>\n",
       "      <td>0</td>\n",
       "      <td>143</td>\n",
       "    </tr>\n",
       "  </tbody>\n",
       "</table>\n",
       "</div>"
      ],
      "text/plain": [
       "          Predicted 0  Predicted 1\n",
       "Actual 0          131            0\n",
       "Actual 1            0          143"
      ]
     },
     "metadata": {},
     "output_type": "display_data"
    },
    {
     "name": "stdout",
     "output_type": "stream",
     "text": [
      "Accuracy Score : 1.0\n",
      "Classification Report\n",
      "              precision    recall  f1-score   support\n",
      "\n",
      "           0       1.00      1.00      1.00       131\n",
      "           1       1.00      1.00      1.00       143\n",
      "\n",
      "    accuracy                           1.00       274\n",
      "   macro avg       1.00      1.00      1.00       274\n",
      "weighted avg       1.00      1.00      1.00       274\n",
      "\n"
     ]
    }
   ],
   "source": [
    "# Displaying results\n",
    "print(\"Confusion Matrix\")\n",
    "display(rf_cm_df)\n",
    "print(f\"Accuracy Score : {acc_score}\")\n",
    "print(\"Classification Report\")\n",
    "print(classification_report(y_test, rf_predictions))"
   ]
  },
  {
   "cell_type": "code",
   "execution_count": 17,
   "id": "489ba258",
   "metadata": {},
   "outputs": [
    {
     "data": {
      "image/png": "[encoded data removed]",
      "text/plain": [
       "<Figure size 640x480 with 2 Axes>"
      ]
     },
     "metadata": {},
     "output_type": "display_data"
    }
   ],
   "source": [
    "# Generate and display the confusion matrix\n",
    "sns.heatmap(rf_cm_df, annot=True, fmt='d', cmap='Blues')\n",
    "plt.xlabel('Predicted')\n",
    "plt.ylabel('True')\n",
    "plt.title('Confusion Matrix')\n",
    "plt.show()"
   ]
  },
  {
   "cell_type": "markdown",
   "id": "c9191b50",
   "metadata": {},
   "source": [
    "## Model Performance Summary\n",
    "\n",
    "In the development of our Random Forest model, we have achieved a remarkable level of accuracy, reaching the pinnacle of 100%. The precision, recall, and F1-scores achieved by the model are consistently perfect across both the \"happy\" and \"not happy\" classes, according to the classification report. This suggests an exceptional ability of the model to classify individuals accurately based on their happiness indicators. Detailed metrics from the evaluation are as follows:\n",
    "\n",
    "- **Precision**: A perfect score of 1.00 for both classes, suggesting an absence of false positives.\n",
    "- **Recall**: Flawless recall of 1.00 for both \"not happy\" and \"happy\" classes, indicating no misclassifications in the form of false negatives.\n",
    "- **F1-Score**: At 1.00 for both classes, the model shows an ideal balance between precision and recall.\n",
    "- **Support**: The support values show an even distribution of observations across the classes in the test dataset.\n",
    "\n",
    "The confusion matrix corroborates these findings, demonstrating the model's accuracy:\n",
    "\n",
    "- **131 instances** of class \"not happy\" were correctly classified.\n",
    "- **143 instances** of class \"happy\" were correctly classified.\n",
    "- There were **no instances** of false negatives or false positives.\n",
    "\n",
    "### Interpretation and Recommendations\n",
    "\n",
    "While the Random Forest model's performance is commendable, a 100% accuracy rate raises considerations regarding the potential for overfitting, especially if the model has not been subjected to a robust cross-validation procedure or tested on an independent dataset.\n",
    "\n",
    "Recommendations for ensuring the robustness and reliability of the model are as follows:\n",
    "\n",
    "1. **Cross-Validation**: Implement cross-validation techniques to confirm the model's efficacy across different data segments and to safeguard against overfitting.\n",
    "2. **Feature Importance Analysis**: Investigate which features most heavily influence the model's predictions to gain deeper insights into the underlying decision-making process.\n",
    "3. **Complex Model Evaluation**: Compare the Random Forest model's performance against more sophisticated or simpler models to validate its predictive power.\n",
    "4. **Regularization Techniques**: Explore Random Forest's built-in parameters that control model complexity to further guard against overfitting.\n",
    "5. **Data Augmentation**: If the dataset is limited, consider techniques to synthetically expand the dataset, thus improving the model's generalizability.\n",
    "6. **Anomaly Detection**: Examine the dataset for anomalies that could bias the model's performance and address them accordingly.\n",
    "7. **Domain Expert Consultation**: Engage with domain experts to evaluate the model's outcomes and align them with domain-specific expectations and knowledge.\n",
    "8. **External Validation**: Test the model's performance on an external dataset to ensure it can generalize its predictions effectively to unseen data.\n",
    "\n",
    "In conclusion, the Random Forest model shows exceptional potential for predicting happiness with high accuracy. Nevertheless, to solidify its practicality and readiness for deployment, further validation steps are recommended to bolster its generalization capabilities and to verify the absence of overfitting."
   ]
  },
  {
   "cell_type": "markdown",
   "id": "b183f2e0",
   "metadata": {},
   "source": [
    "### Decision Tree model"
   ]
  },
  {
   "cell_type": "code",
   "execution_count": 18,
   "id": "e85655d7",
   "metadata": {},
   "outputs": [],
   "source": [
    "# Creating the decision tree classifier instance\n",
    "decision_tree_model = tree.DecisionTreeClassifier()"
   ]
  },
  {
   "cell_type": "code",
   "execution_count": 19,
   "id": "c3a6df9e",
   "metadata": {},
   "outputs": [],
   "source": [
    "# Fitting the model\n",
    "decision_tree_model = decision_tree_model.fit(X_train, y_train)"
   ]
  },
  {
   "cell_type": "code",
   "execution_count": 20,
   "id": "f7967ad1",
   "metadata": {},
   "outputs": [],
   "source": [
    "# Making predictions using the testing data\n",
    "decision_tree_predictions = decision_tree_model.predict(X_test)"
   ]
  },
  {
   "cell_type": "code",
   "execution_count": 21,
   "id": "31f491b8",
   "metadata": {},
   "outputs": [],
   "source": [
    "# Calculating the confusion matrix\n",
    "dt_cm = confusion_matrix(y_test, decision_tree_predictions)\n",
    "dt_cm_df = pd.DataFrame(\n",
    "    dt_cm, index=[\"Actual 0\", \"Actual 1\"], columns=[\"Predicted 0\", \"Predicted 1\"]\n",
    ")\n",
    "\n",
    "# Calculating the accuracy score\n",
    "acc_score = accuracy_score(y_test, decision_tree_predictions)"
   ]
  },
  {
   "cell_type": "code",
   "execution_count": 22,
   "id": "b259a2e0",
   "metadata": {},
   "outputs": [
    {
     "name": "stdout",
     "output_type": "stream",
     "text": [
      "Confusion Matrix\n"
     ]
    },
    {
     "data": {
      "text/html": [
       "<div>\n",
       "<style scoped>\n",
       "    .dataframe tbody tr th:only-of-type {\n",
       "        vertical-align: middle;\n",
       "    }\n",
       "\n",
       "    .dataframe tbody tr th {\n",
       "        vertical-align: top;\n",
       "    }\n",
       "\n",
       "    .dataframe thead th {\n",
       "        text-align: right;\n",
       "    }\n",
       "</style>\n",
       "<table border=\"1\" class=\"dataframe\">\n",
       "  <thead>\n",
       "    <tr style=\"text-align: right;\">\n",
       "      <th></th>\n",
       "      <th>Predicted 0</th>\n",
       "      <th>Predicted 1</th>\n",
       "    </tr>\n",
       "  </thead>\n",
       "  <tbody>\n",
       "    <tr>\n",
       "      <th>Actual 0</th>\n",
       "      <td>131</td>\n",
       "      <td>0</td>\n",
       "    </tr>\n",
       "    <tr>\n",
       "      <th>Actual 1</th>\n",
       "      <td>0</td>\n",
       "      <td>143</td>\n",
       "    </tr>\n",
       "  </tbody>\n",
       "</table>\n",
       "</div>"
      ],
      "text/plain": [
       "          Predicted 0  Predicted 1\n",
       "Actual 0          131            0\n",
       "Actual 1            0          143"
      ]
     },
     "metadata": {},
     "output_type": "display_data"
    },
    {
     "name": "stdout",
     "output_type": "stream",
     "text": [
      "Accuracy Score : 1.0\n",
      "Classification Report\n",
      "              precision    recall  f1-score   support\n",
      "\n",
      "           0       1.00      1.00      1.00       131\n",
      "           1       1.00      1.00      1.00       143\n",
      "\n",
      "    accuracy                           1.00       274\n",
      "   macro avg       1.00      1.00      1.00       274\n",
      "weighted avg       1.00      1.00      1.00       274\n",
      "\n"
     ]
    }
   ],
   "source": [
    "# Displaying results\n",
    "print(\"Confusion Matrix\")\n",
    "display(dt_cm_df)\n",
    "print(f\"Accuracy Score : {acc_score}\")\n",
    "print(\"Classification Report\")\n",
    "print(classification_report(y_test, decision_tree_predictions))"
   ]
  },
  {
   "cell_type": "code",
   "execution_count": 23,
   "id": "e1e931df",
   "metadata": {},
   "outputs": [
    {
     "data": {
      "image/png": "[encoded data removed]",
      "text/plain": [
       "<Figure size 640x480 with 2 Axes>"
      ]
     },
     "metadata": {},
     "output_type": "display_data"
    }
   ],
   "source": [
    "# Generate and display the confusion matrix\n",
    "sns.heatmap(dt_cm_df, annot=True, fmt='d', cmap='Blues')\n",
    "plt.xlabel('Predicted')\n",
    "plt.ylabel('True')\n",
    "plt.title('Confusion Matrix')\n",
    "plt.show()"
   ]
  },
  {
   "cell_type": "code",
   "execution_count": 24,
   "id": "6f43bc37",
   "metadata": {},
   "outputs": [
    {
     "ename": "NameError",
     "evalue": "name 'pydotplus' is not defined",
     "output_type": "error",
     "traceback": [
      "\u001b[0;31m---------------------------------------------------------------------------\u001b[0m",
      "\u001b[0;31mNameError\u001b[0m                                 Traceback (most recent call last)",
      "Cell \u001b[0;32mIn[24], line 7\u001b[0m\n\u001b[1;32m      2\u001b[0m dot_data \u001b[38;5;241m=\u001b[39m tree\u001b[38;5;241m.\u001b[39mexport_graphviz(\n\u001b[1;32m      3\u001b[0m     decision_tree_model, out_file\u001b[38;5;241m=\u001b[39m\u001b[38;5;28;01mNone\u001b[39;00m, feature_names\u001b[38;5;241m=\u001b[39mfeatures\u001b[38;5;241m.\u001b[39mcolumns, class_names\u001b[38;5;241m=\u001b[39m[\u001b[38;5;124m\"\u001b[39m\u001b[38;5;124m0\u001b[39m\u001b[38;5;124m\"\u001b[39m, \u001b[38;5;124m\"\u001b[39m\u001b[38;5;124m1\u001b[39m\u001b[38;5;124m\"\u001b[39m], filled\u001b[38;5;241m=\u001b[39m\u001b[38;5;28;01mTrue\u001b[39;00m\n\u001b[1;32m      4\u001b[0m )\n\u001b[1;32m      6\u001b[0m \u001b[38;5;66;03m# Draw graph\u001b[39;00m\n\u001b[0;32m----> 7\u001b[0m graph \u001b[38;5;241m=\u001b[39m \u001b[43mpydotplus\u001b[49m\u001b[38;5;241m.\u001b[39mgraph_from_dot_data(dot_data)\n\u001b[1;32m      9\u001b[0m \u001b[38;5;66;03m# Show graph\u001b[39;00m\n\u001b[1;32m     10\u001b[0m Image(graph\u001b[38;5;241m.\u001b[39mcreate_png())\n",
      "\u001b[0;31mNameError\u001b[0m: name 'pydotplus' is not defined"
     ]
    }
   ],
   "source": [
    "# Create DOT data\n",
    "dot_data = tree.export_graphviz(\n",
    "    decision_tree_model, out_file=None, feature_names=features.columns, class_names=[\"0\", \"1\"], filled=True\n",
    ")\n",
    "\n",
    "# Draw graph\n",
    "graph = pydotplus.graph_from_dot_data(dot_data)\n",
    "\n",
    "# Show graph\n",
    "Image(graph.create_png())\n"
   ]
  },
  {
   "cell_type": "markdown",
   "id": "283e09f8",
   "metadata": {},
   "source": [
    "## Model Performance Summary\n",
    "\n",
    "The Decision Tree model was meticulously crafted and assessed, yielding an exemplary performance with an accuracy score of 100%. The precision, recall, and F1-score for both classes — \"happy\" and \"not happy\" — achieved the highest possible mark, demonstrating the model's remarkable classification precision. Below are the salient details from the model's evaluation:\n",
    "\n",
    "- **Precision**: Attained a perfect score of 1.00 for both classes, indicating no instance of a false positive.\n",
    "- **Recall**: Achieved a score of 1.00 for both classes, reflecting the model's precision in correctly identifying all true positives without any false negatives.\n",
    "- **F1-Score**: Obtained a score of 1.00 for each class, suggesting an optimal balance between precision and recall.\n",
    "- **Support**: The support numbers indicate an evenly distributed number of observations across both classes in the test data.\n",
    "\n",
    "The confusion matrix solidifies the exemplary metrics, showing a flawless classification by the model:\n",
    "\n",
    "- Total correct classifications for \"not happy\": 131\n",
    "- Total correct classifications for \"happy\": 143\n",
    "- Zero instances of false negatives and false positives.\n",
    "\n",
    "### Interpretation and Strategic Enhancements\n",
    "\n",
    "While the Decision Tree model's results are outstanding, a 100% accuracy may raise questions regarding the model's generalizability, prompting us to consider the potential of overfitting. To validate the model's robustness and prepare it for real-world applications, the following strategies are recommended:\n",
    "\n",
    "1. **Cross-Validation**: Utilise cross-validation to ascertain consistent performance and to mitigate overfitting risks.\n",
    "2. **Feature Importance Assessment**: Conduct an in-depth analysis of the influence each feature has on the model's decision-making process.\n",
    "3. **Model Complexity Review**: Compare the Decision Tree model against other models to evaluate whether simpler or more intricate models offer improved or comparable performance.\n",
    "4. **Pruning Techniques**: Implement pruning methods available for Decision Trees to refine the model and prevent it from overfitting to the training data.\n",
    "5. **Dataset Expansion**: If limited by data constraints, consider enhancing the dataset to bolster the model's ability to generalise.\n",
    "6. **Anomaly Investigation**: Inspect the data for anomalies or outliers that might unduly sway the model's predictions and address them as needed.\n",
    "7. **Expert Domain Review**: Consult with domain experts to verify that the model's predictions align with real-world expectations and knowledge.\n",
    "8. **External Dataset Validation**: Evaluate the model against an independent dataset to confirm its generalisation capabilities.\n",
    "\n",
    "In essence, the Decision Tree model exhibits exceptional accuracy in predicting individual happiness levels. Nonetheless, due diligence in the form of further validation and refinement is imperative to ensure its readiness for deployment and use in practical settings.\n"
   ]
  },
  {
   "cell_type": "code",
   "execution_count": null,
   "id": "787f4f00",
   "metadata": {},
   "outputs": [],
   "source": []
  }
 ],
 "metadata": {
  "kernelspec": {
   "display_name": "Python 3 (ipykernel)",
   "language": "python",
   "name": "python3"
  },
  "language_info": {
   "codemirror_mode": {
    "name": "ipython",
    "version": 3
   },
   "file_extension": ".py",
   "mimetype": "text/x-python",
   "name": "python",
   "nbconvert_exporter": "python",
   "pygments_lexer": "ipython3",
   "version": "3.10.13"
  }
 },
 "nbformat": 4,
 "nbformat_minor": 5
}
